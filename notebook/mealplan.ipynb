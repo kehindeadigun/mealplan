{
 "metadata": {
  "language_info": {
   "codemirror_mode": {
    "name": "ipython",
    "version": 3
   },
   "file_extension": ".py",
   "mimetype": "text/x-python",
   "name": "python",
   "nbconvert_exporter": "python",
   "pygments_lexer": "ipython3",
   "version": "3.8.2-final"
  },
  "orig_nbformat": 2,
  "kernelspec": {
   "name": "python3",
   "display_name": "Python 3.8.2 64-bit",
   "metadata": {
    "interpreter": {
     "hash": "31f2aee4e71d21fbe5cf8b01ff0e069b9275f58929596ceb00d14d90e3e16cd6"
    }
   }
  }
 },
 "nbformat": 4,
 "nbformat_minor": 2,
 "cells": [
  {
   "source": [
    "# Meal Plans\n",
    "\n",
    "The meal plans provide meal plans for clients and are powered by the json file in the folder. The meal plan json is structured as in (day-> Mealtime-> Options-> (List of meals)).<br>\n",
    "\n",
    "<hr style=\"width:100px;\">\n",
    "\n",
    "Day: Day_one, Day_two, Day_three up to Day_seven <br>\n",
    "Mealtime: List of Breakfast, Lunch, Dinner or Snacks <br>\n",
    "Options: Each meal option depends on the proteins available e.g \"Egg\", \"Fish\". There is a \"Default\" and an \"Information\" option for calorie and meal option Information. <br>\n",
    "List of meals: A list of the meals available for each option.\n",
    "\n",
    "<hr style=\"width:100px;\">\n",
    "\n",
    "## IMAGES\n",
    "<img src=\"meal_tree.jpg\" style=\"height:400px; width:auto; display:inline\">\n",
    "<img src=\"meal_tree2.jpg\" style=\"height:400px; width:auto\">"
   ],
   "cell_type": "markdown",
   "metadata": {}
  },
  {
   "cell_type": "code",
   "execution_count": 1,
   "metadata": {},
   "outputs": [],
   "source": [
    "meal_plan = { \"Day_one\":{  \"Breakfast\":{\n",
    "                \"Egg\":[\"A Bowl of pawpaw, one slice of toast bread & Egg\"],\n",
    "                \"Sausage\":[\"A Bowl of pawpaw, one slice of toast bread & Sausage\"],\n",
    "                \"Chicken\":[\"A Bowl of pawpaw, one slice of toast bread & Chicken\"],\n",
    "                \"Bacon\":[\"A Bowl of pawpaw, one slice of toast bread & Bacon\"],\n",
    "                \"Mushrooms\":[\"A Bowl of pawpaw, one slice of toast bread & Mushrooms\"],\n",
    "                \"Sardine\":[\"A Bowl of pawpaw, one slice of toast bread & Sardine\"],\n",
    "                \"Default\":[\"A Bowl of pawpaw, one slice of toast bread & a protein of your choice\"],\n",
    "                \"Options\":[\"Egg\",\"Sausage\",\"Chicken\",\"Bacon\",\"Mushrooms\",\"Sardine\"],\n",
    "                \"Information\":[\"Note - all forms of protein- 30g (1/2 cup) - 120 calories (without oil), Baked potatoes – 120g – 480calories, Mixed veggies, leafy green or tomatoes sauce –500g =  100calories\"]},\n",
    "        \n",
    "              \"Lunch\":{\n",
    "                \"Beef\":[\"Meal: Baked sweet potatoes. Mixed veggies: Onions, ginger garlic, bell papers ,carrots , green beans. Tomato sauce: Garlic, onions, basil, tomatoes, chili pepper. Protein: Beef\"],\n",
    "                \"Fish\":[\"Meal: Baked sweet potatoes. Mixed veggies: Onions, ginger garlic, bell papers ,carrots , green beans. Tomato sauce: Garlic, onions, basil, tomatoes, chili pepper. Protein: Fish\"],\n",
    "                \"Shrimp\":[\"Meal: Baked sweet potatoes. Mixed veggies: Onions, ginger garlic, bell papers ,carrots , green beans. Tomato sauce: Garlic, onions, basil, tomatoes, chili pepper. Protein: Shrimp\"],\n",
    "                \"Chicken\":[\"Meal: Baked sweet potatoes. Mixed veggies: Onions, ginger garlic, bell papers ,carrots , green beans. Tomato sauce: Garlic, onions, basil, tomatoes, chili pepper. Protein: Chicken\"],\n",
    "                \"Pork\":[\"Meal: Baked sweet potatoes. Mixed veggies: Onions, ginger garlic, bell papers ,carrots , green beans. Tomato sauce: Garlic, onions, basil, tomatoes, chili pepper. Protein: Pork\"],\n",
    "                \"Turkey\":[\"Meal: Baked sweet potatoes. Mixed veggies: Onions, ginger garlic, bell papers ,carrots , green beans. Tomato sauce: Garlic, onions, basil, tomatoes, chili pepper. Protein: Turkey\"],\n",
    "                \"Egg\":[\"Meal: Baked sweet potatoes. Mixed veggies: Onions, ginger garlic, bell papers ,carrots , green beans. Tomato sauce: Garlic, onions, basil, tomatoes, chili pepper. Protein:Egg \"],\n",
    "                \"Default\":[\"Meal: Baked sweet potatoes. Mixed veggies: Onions, ginger garlic, bell papers ,carrots , green beans. Tomato sauce: Garlic, onions, basil, tomatoes, chili pepper. Protein: Add a protein of your choice.\"],\n",
    "                \"Options\":[\"Egg\",\"Beef\",\"Fish\",\"Shrimp\",\"Chicken\",\"Pork\",\"Turkey\",],\n",
    "                \"Information\":[\"Egg- 20g = 80 calories, Pawpaw - 500g = 100 calories, 1 slice bread = 65 calories, 1 link chicken, Sausage = 100calories, 1 strip of Bacon = 42 calories, One cup of Mushrooms = 21 calories, 1 quarter can oF sardine = 65calories\"]},\n",
    "                \n",
    "              \"Dinner\":{\n",
    "                \"Fish\":[\"Steamed vegetables – carrots, cauliflower, green peas, ginger, garlic, bell papers (red, yellow, green) & Fish\"],\n",
    "                \"Shrimp\":[\"Steamed vegetables – carrots, cauliflower, green peas, ginger, garlic, bell papers (red, yellow, green) & Shrimp\"],\n",
    "                \"Chicken\":[\"Steamed vegetables – carrots, cauliflower, green peas, ginger, garlic, bell papers (red, yellow, green) & Chicken\"],\n",
    "                \"Pork\":[\"Steamed vegetables – carrots, cauliflower, green peas, ginger, garlic, bell papers (red, yellow, green) & Pork\"],\n",
    "                \"Turkey\":[\"Steamed vegetables – carrots, cauliflower, green peas, ginger, garlic, bell papers (red, yellow, green) & Turkey\"],\n",
    "                \"Egg\":[\"Steamed vegetables – carrots, cauliflower, green peas, ginger, garlic, bell papers (red, yellow, green) & Egg\"],\n",
    "                \"Default\":[\"Steamed vegetables – carrots, cauliflower, green peas, ginger, garlic, bell papers (red, yellow, green) & a protein of your choice\"],\n",
    "                \"Options\":[\"Egg\",\"Fish\",\"Shrimp\",\"Chicken\",\"Pork\",\"Turkey\"],\n",
    "                \"Information\":[\"Steamed veggies -1000g -100calories, Egg -30g-120calories, Turkey -30g-120calories, Pork -30g-120calories, Beef-30g-120calories, Fish -30g-120calories, Shrimps -30g-120calories, Chicken -30g-120calories\"]},\n",
    "                \n",
    "              \"Snacks\":{\n",
    "                \"Default\":[\"Mixed Nuts -20g- 80calories\"], \n",
    "                \"Information\":[\"Mixed Nuts -20g- 80calories\"]}\n",
    "},\n",
    "\n",
    "  \"Day_two\":{ \"Breakfast\":{\n",
    "                \"Egg\":[\"1  boiled potato, steamed mixed vegetable, A cup of green tea & Scrambled Eggs\"],\n",
    "                \"Sausage\":[\"1  boiled potato, steamed mixed vegetable, A cup of green tea & Sausages\"],\n",
    "                \"Bacon\":[\"1  boiled potato, steamed mixed vegetable, A cup of green tea & Bacon\"],\n",
    "                \"Mushrooms\":[\"1  boiled potato, steamed mixed vegetable, A cup of green tea & Mushrooms\"],\n",
    "                \"Sardine\":[\"1  boiled potato, steamed mixed vegetable, A cup of green tea & Sardine\"],\n",
    "                \"Default\":[\"1  boiled potato, steamed mixed vegetable, A cup of green tea & a protein of your choice.\"],\n",
    "                \"Options\":[\"Egg\",\"Sausage\",\"Bacon\",\"Mushrooms\",\"Sardine\"],\n",
    "                \"Information\": [\"Egg - 20g= 80 calories, Pawpaw- 500g = 100 calories,1 sliced bread = 65 calories, 1 link chicken, Sausage = 100calories, 1 strip of Bacon = 42 calories, One cup Mushrooms = 21 calories, 1 quarter can of Sardine = 65calories\"]},\n",
    "                \n",
    "              \"Lunch\": {\"Egg\":[\"Beans and plantain pottage with vegetables & Eggs\"],\n",
    "                \"Chicken\":[\"Beans and plantain pottage with vegetables & Chicken\"],\n",
    "                \"Pork\":[\"Beans and plantain pottage with vegetables & Pork\"],\n",
    "                \"Turkey\":[\"Beans and plantain pottage with vegetables & Turkey\"],\n",
    "                \"Default\":[\"Beans and plantain pottage with vegetables & a protein of your choice\"],\n",
    "                \"Options\":[\"Egg\",\"Chicken\",\"Pork\",\"Turkey\"],\n",
    "                \"Information\":[\"Note – all forms of protein – 30g – 120 calories –(without oil), Beans – 100g – 400calories –cooked without oil, Plantain -25g (boiled) - 100calories, Vegetables – 400g – 80 calories, Total calories – 700\"]},\n",
    "              \n",
    "              \"Dinner\":{\n",
    "                \"Fish\":[\"Pepper soup – uziza leaf & Fish\"],\n",
    "                \"Chicken\":[\"Pepper soup – uziza leaf & Chopped Chicken\"],\n",
    "                \"Beef\":[\"Pepper soup – uziza leaf & Chopped beef\"],\n",
    "                \"Pork\":[\"Pepper soup – uziza leaf & Chopped pork\"],\n",
    "                \"Turkey\":[\"Pepper soup – uziza leaf & Chopped turkey\"],\n",
    "                \"Default\":[\"Pepper soup – uziza leaf & a protein of your choice\"],\n",
    "                \"Options\":[\"Chicken\",\"Fish\",\"Beef\", \"Pork\", \"Turkey\"],\n",
    "                \"Information\":[\"Beef – 60g – 240kcalories, Fish – 60g- uziza leaf, Chicken – 60g – 240kcalories, Pork- 60g- 240calories, Turkey – 60g-240kcalories\"]},\n",
    "                \n",
    "              \"Snacks\":{\n",
    "                \"Default\":[\"Cucumber 1 medium(150g)- 20calories\"], \n",
    "                \"Information\":[\"Cucumber 1 medium(150g)- 20calories\"]}\n",
    "},\n",
    "\n",
    "\"Day_three\":{ \"Breakfast\":{\"Egg\":[\"Quaker Oat+ Bowl of Pawpaw & boiled egg\",\"Unsweetened oats, fruits ( 1 banana, half an apple and dates), boiled egg & Tea\"],\n",
    "                \"Default\":[\"Oat Granola Cereal (1/2Cup) + Soy Milk + Green Juice smoothie (Kale, Cucumber, celery, apple)\",\"A bowl of cereal, Banana Smoothie Oat Cereal &  Milk Alternative (soy milk)\", \"Fruity Cereal, greek yogurt & berries\", \"Mixed fruit granula + plant based milk(coconut milk)\"],\n",
    "                \"Options\":[\"Egg\"],\n",
    "                \"Information\": [\"1 cup of Banana smoothie = 224 calories, 1 cup of green smoothie = 83 calories, 1 glass of soymilk = 127 calories, 1/2 cup of Oat granola =  195 calories, 1 Cup Unsweetened oat= 156 calories, 1 cup Quaker oat= 158 calories, 1 cup cereal = 100 calories, 1 Egg= 78 calories, 1 cup of Greek Yogurt = 59 calories\"]},\n",
    "                \n",
    "              \"Lunch\": {\"Meat\":[\"Jollof rice (basmati), Salad & Meat\"],\n",
    "                \"Beef\":[\"Jollof rice (basmati), Salad & Beef\"],\n",
    "                \"Fish\":[\"Jollof rice (basmati), Salad & Fish\"],\n",
    "                \"Shrimp\":[\"Jollof rice (basmati), Salad & Shrimp\"],\n",
    "                \"Chicken\":[\"Jollof rice (basmati), Salad & Chicken\"],\n",
    "                \"Pork\":[\"Jollof rice (basmati), Salad & Pork\"],\n",
    "                \"Turkey\":[\"Jollof rice (basmati), Salad & Turkey\"],\n",
    "                \"Egg\":[\"Jollof rice (basmati), Salad & Egg\"],\n",
    "                \"Default\":[\"Jollof rice (basmati), Salad & a protein of your choice\"],\n",
    "                \"Options\":[\"Meat\" ,\"Beef\",\"Fish\",\"Shrimp\",\"Chicken\",\"Pork\",\"Turkey\",\"Egg\"],\n",
    "                \"Information\":[\"Note – all forms of protein – 30g – 120 calories, Rice – 125g – 500calories (boiled), Seasonal salad - 400g – 80calories\"]},\n",
    "              \n",
    "              \"Dinner\":{\n",
    "                \"Fish\":[\"Boiled plantain & garden egg sauces & Fish\"],\n",
    "                \"Chicken\":[\"Boiled plantain & garden egg sauces & grilled Chicken\"],\n",
    "                \"Shrimp\":[\"Boiled plantain & garden egg sauces & Shrimps\"],\n",
    "                \"Beef\":[\"Boiled plantain & garden egg sauces & Beef\"],\n",
    "                \"Pork\":[\"Boiled plantain & garden egg sauces & grilled pork\"],\n",
    "                \"Turkey\":[\"Boiled plantain & garden egg sauces & grilled turkey\"],\n",
    "                \"Default\":[\"Boiled plantain & garden egg sauces & a protein of your choice\"],\n",
    "                \"Options\":[\"Chicken\",\"Fish\",\"Beef\", \"Pork\", \"Turkey\", \"Shrimp\"],\n",
    "                \"Information\":[\"Fish -30g- 120calories, Boiled Plantain 30g-120 calories, Garden Egg- 25g- 100 calories, Egg- 30g -120 calories, Turkey - 30g-120 calories, Pork- 30g-120 calories, Chicken - 30g- 120calories, Shrimps-30g - 120calories\"]},\n",
    "                \n",
    "              \"Snacks\":{\n",
    "                \"Default\":[\"Pawpaw- 100g – 32calories\"], \n",
    "                \"Information\":[\"Pawpaw- 100g – 32calories\"]}\n",
    "},\n",
    "\n",
    "\"Day_four\":{  \"Breakfast\":{\n",
    "                \"Fish\":[\"Honey sweetened Pap, Moi Moi & grilled fish\"],\n",
    "                \"Chicken\":[\"Honey sweetened Pap, Moi Moi & Chicken\"],\n",
    "                \"Egg\":[\"Honey sweetened Pap, Moi Moi & Egg\"],\n",
    "                \"Sausage\":[\"Honey sweetened Pap, Moi Moi & Sausage\"],\n",
    "                \"Default\":[\"Honey sweetened Pap, Moi Moi & a protein of your choice\"],\n",
    "                \"Options\":[\"Egg\",\"Sausage\",\"Chicken\",\"Fish\"],\n",
    "                \"Information\":[\"Pap- 20g = 80 calories, moimoi - 50g = 200 calories, Fish - 30g = 120 calories, 1 link Sausage = 100 calories, 1 boiled egg = 78calories, 1 chicken thigh - 238 calories\"]},\n",
    "        \n",
    "              \"Lunch\":{\n",
    "                \"Beef\":[\"Amala (White or Black) with Okra Soup & Mixed Vegetables & Beef\"],\n",
    "                \"Fish\":[\"Amala (White or Black) with Okra Soup & Mixed Vegetables & Fish\"],\n",
    "                \"Chicken\":[\"Amala (White or Black) with Okra Soup & Mixed Vegetables & Chicken\"],\n",
    "                \"Pork\":[\"Amala (White or Black) with Okra Soup & Mixed Vegetables & Pork\"],\n",
    "                \"Turkey\":[\"Amala (White or Black) with Okra Soup & Mixed Vegetables & Turkey\"],\n",
    "                \"Default\":[\"Amala (White or Black) with Okra Soup & Mixed Vegetables & a protein of your choice\"],\n",
    "                \"Options\":[\"Beef\",\"Fish\",\"Chicken\",\"Pork\",\"Turkey\"],\n",
    "                \"Information\": [\"Note – all forms of protein – 30g- 120calories Amala – 125g -  500calories, Okra soup with vegetables – 400g – 80calories, Total calories - 700\"]},\n",
    "                \n",
    "              \"Dinner\":{\n",
    "                \"Beef\":[\"Moi- moi & veggies –(mixed veggies –carrots, peas, corn, sweet paper, garlic & ginger) & Beef\"],\n",
    "                \"Fish\":[\"Moi- moi & veggies –(mixed veggies –carrots, peas, corn, sweet paper, garlic & ginger) & Fish\"],\n",
    "                \"Shrimp\":[\"Moi- moi & veggies –(mixed veggies –carrots, peas, corn, sweet paper, garlic & ginger) & Shrimps\"],\n",
    "                \"Chicken\":[\"Moi- moi & veggies –(mixed veggies –carrots, peas, corn, sweet paper, garlic & ginger) & Chicken\"],\n",
    "                \"Pork\":[\"Boiled plantain & garden egg sauces & grilled pork\"],\n",
    "                \"Turkey\":[\"Moi- moi & veggies –(mixed veggies –carrots, peas, corn, sweet paper, garlic & ginger) & Turkey\"],\n",
    "                \"Egg\":[\"Moi- moi & veggies –(mixed veggies –carrots, peas, corn, sweet paper, garlic & ginger) & Egg\"],\n",
    "                \"Default\":[\"Moi- moi & veggies –(mixed veggies –carrots, peas, corn, sweet paper, garlic & ginger) & a protein of your choice\"],\n",
    "                \"Options\":[\"Chicken\",\"Fish\",\"Beef\", \"Pork\", \"Turkey\", \"Shrimp\", \"Egg\"],\n",
    "                \"Information\":[\"Beef- 30g- 120calories, Moi-moi- 25g- 100calories, Veggies – 600g – 120 calories, Egg - 600g- 120calories, Turkey - 600g- 120calories, Pork - 30g- 120calories, Chicken - 30g- 120calories, Shrimps - 30g- 120calories, Fish - 30g- 120calories\"]},\n",
    "                \n",
    "              \"Snacks\":{\"Default\":[\"Banana -1 medium size -100g -139calories\"],\n",
    "              \"Information\":[\"Banana -1 medium size -100g -139calories\"]}\n",
    "},\n",
    "              \n",
    "  \"Day_five\":{  \"Breakfast\":{\n",
    "                \"Fish\":[\"Unripe/Semi ripe Grilled Plantain, Vegetable Sauce & Grilled Fish\"],\n",
    "                \"Egg\":[\"Unripe/Semi ripe Grilled Plantain, Vegetable Sauce & Scrambled Egg\"],\n",
    "                \"Turkey\":[\"Unripe/Semi ripe Grilled Plantain, Vegetable Sauce & grilled Turkey\"],\n",
    "                \"Chicken\":[\"Unripe/Semi ripe Grilled Plantain, Vegetable Sauce & Chopped Chicken\"],\n",
    "                \"Shrimp\":[\"Unripe/Semi ripe Grilled Plantain, Vegetable Sauce & Shrimp\"],\n",
    "                \"Default\":[\"Unripe/Semi ripe Grilled Plantain, Vegetable Sauce & a protein of your choice\"],\n",
    "                \"Options\":[\"Fish\",\"Egg\",\"Turkey\",\"Chicken\",\"Shrimp\"],\n",
    "                \"Information\":[\"Unripe plantain - 50g = 200 calories, Vegetables - 20g = 80 calories, Fish- 30g = 120 calories, 85g of grilled turkey = 177 calories, 85g of grilled Chicken breast = 110 calories, 85g Shrimp= 85 calories\"]\n",
    "  },\n",
    "                \n",
    "                \"Lunch\":{\n",
    "                \"Meat\":[\"Plantain flour swallow Edikaikong soup (Oil free) & Meat\"],\n",
    "                \"Beef\":[\"Plantain flour swallow Edikaikong soup (Oil free) & Beef\"],\n",
    "                \"Fish\":[\"Plantain flour swallow Edikaikong soup (Oil free) & Fish\"],\n",
    "                \"Chicken\":[\"Plantain flour swallow Edikaikong soup (Oil free) & Chicken\"],\n",
    "                \"Pork\":[\"Plantain flour swallow Edikaikong soup (Oil free) & Pork\"],\n",
    "                \"Turkey\":[\"Plantain flour swallow Edikaikong soup (Oil free) & Turkey\"],\n",
    "                \"Default\":[\"Plantain flour swallow Edikaikong soup (Oil free) & a protein of your choice\"],\n",
    "                \"Options\":[\"Meat\",\"Beef\",\"Fish\",\"Chicken\",\"Pork\",\"Turkey\"],\n",
    "                \"Information\":[\"Note – all forms of protein – 30g – 120 calories, Plantain Flour Swallow – 125g – 244 calories, Edikaikong soup – 400g – 300 calories, 1 Apple = 95 calories\"]},\n",
    "                \n",
    "              \"Dinner\":{\n",
    "                \"Fish\":[\"Seasonal vegetable stir-fry  (Carrot, green beans, garlic, ginger, bell paper, cucumber) & Fish\"],\n",
    "                \"Chicken\":[\"Seasonal vegetable stir-fry  (Carrot, green beans, garlic, ginger, bell paper, cucumber) & Chicken\"],\n",
    "                \"Shrimp\":[\"Seasonal vegetable stir-fry  (Carrot, green beans, garlic, ginger, bell paper, cucumber) & Shrimps\"],\n",
    "                \"Beef\":[\"Seasonal vegetable stir-fry  (Carrot, green beans, garlic, ginger, bell paper, cucumber) & Beef\"],\n",
    "                \"Pork\":[\"Seasonal vegetable stir-fry  (Carrot, green beans, garlic, ginger, bell paper, cucumber) & pork\"],\n",
    "                \"Turkey\":[\"Seasonal vegetable stir-fry  (Carrot, green beans, garlic, ginger, bell paper, cucumber) & turkey\"],\n",
    "                \"Default\":[\"Seasonal vegetable stir-fry  (Carrot, green beans, garlic, ginger, bell paper, cucumber) & a protein of your choice\"],\n",
    "                \"Options\":[\"Chicken\",\"Fish\",\"Beef\", \"Pork\", \"Turkey\", \"Shrimp\"],\n",
    "                \"Information\":[\"Turkey  – 30g- 120calories, Vegetables – 1100g – 220calories, Pork – 30g- 120calories, Shrimps  – 30g- 120calories, Fish  – 30g- 120calories, Beef – 30g- 120calories, Chicken- 30g- 120calories\"]},\n",
    "                \n",
    "              \"Snacks\":{\n",
    "                \"Default\":[\"Apple -60 calories\"],\n",
    "                \"Information\":[\"Apple -60 calories\"]}\n",
    "    \n",
    "  },\n",
    "\n",
    "\"Day_six\":{  \"Breakfast\":{\n",
    "                \"Sausage\":[\"Quinoa, mixed veggie, avocado, pineapple, watermelon fruit & sausages\"],\n",
    "                \"Egg\":[\"Quinoa, mixed veggie, avocado, pineapple, watermelon fruit & boiled egg\"],\n",
    "                \"Turkey\":[\"Quinoa, mixed veggie, avocado, pineapple, watermelon fruit & turkey\"],\n",
    "                \"Chicken\":[\"Quinoa, mixed veggie, avocado, pineapple, watermelon fruit & chicken stir fry\"],\n",
    "                \"Fish\":[\"Quinoa, mixed veggie, avocado, pineapple, watermelon fruit & grilled fish\"],\n",
    "                \"Default\":[\"Quinoa, mixed veggie, avocado, pineapple, watermelon fruit & a protein of your choice\"],\n",
    "                \"Options\":[\"Sausage\",\"Egg\",\"Turkey\",\"Chicken\",\"Fish\"],\n",
    "                \"Information\":[\"1/2 cup of  Quinoa= 114 calories, Fish- 30g = 120 calories, 85g of grilled turkey= 177 calories, 85g of grilled Chicken breast =110 calories, 85g Shrimp=  85 calories, 1/5 Avocado= 64 calories, 1 cup diced watermelon= 30 calories, 1 cup diced Pineapple = 1 serving of steamed mixed Vegetable= 50 calories\"]},\n",
    "        \n",
    "              \"Lunch\":{\n",
    "                \"Beef\":[\"Boiled, baked or roasted Yam with Garden egg sauce & mushroom & Beef\"],\n",
    "                \"Fish\":[\"Boiled, baked or roasted Yam with Garden egg sauce & mushroom & Fish\"],\n",
    "                \"Shrimp\":[\"Boiled, baked or roasted Yam with Garden egg sauce & mushroom & Shrimp\"],\n",
    "                \"Chicken\":[\"Boiled, baked or roasted Yam with Garden egg sauce & mushroom & Chicken\"],\n",
    "                \"Pork\":[\"Boiled, baked or roasted Yam with Garden egg sauce & mushroom & Pork\"],\n",
    "                \"Turkey\":[\"Boiled, baked or roasted Yam with Garden egg sauce & mushroom & Turkey\"],\n",
    "                \"Egg\":[\"Boiled, baked or roasted Yam with Garden egg sauce & mushroom & Egg\"],\n",
    "                \"Default\":[\"Boiled, baked or roasted Yam with Garden egg sauce & mushroom & a protein of your choice.\"],\n",
    "                \"Options\":[\"Beef\",\"Fish\",\"Shrimp\",\"Chicken\",\"Pork\",\"Turkey\", \"Egg\"],\n",
    "                \"Information\": [\"Note- all forms of protein-30g- 120calories, Boiled yam-125g- 500calories, Garden egg sauce with mushroom -400g -80calories, Total calories - 700\"]},\n",
    "                \n",
    "              \"Dinner\":{\n",
    "                \"Fish\":[\"Vegetable salad – all green & Fish\"],\n",
    "                \"Chicken\":[\"Vegetable salad – all green & Chicken\"],\n",
    "                \"Egg\":[\"Vegetable salad – all green & Egg\"],\n",
    "                \"Beef\":[\"Vegetable salad – all green & Beef\"],\n",
    "                \"Pork\":[\"Vegetable salad – all green & pork ribs\"],\n",
    "                \"Turkey\":[\"Vegetable salad – all green & turkey\"],\n",
    "                \"Default\":[\"Vegetable salad – all green & a protein of your choice\"],\n",
    "                \"Options\":[\"Chicken\",\"Fish\",\"Beef\", \"Pork\", \"Turkey\", \"Egg\"],\n",
    "                \"Information\":[\"Egg -30g- 120calories, Salad- 1100g- 220calories, Turkey -30g- 120calories, pork-30g- 120calories, Chicken -30g- 120calories, Beef-30g- 120calories\"]},\n",
    "                \n",
    "              \"Snacks\":{\n",
    "                \"Default\":[\"Carrots -1 medium size - 60g - 29 calories\"],\n",
    "              \"Information\":[\"Carrots - 1 medium size -60g - 29 calories\"]}\n",
    "  \n",
    "},\n",
    "\n",
    "\"Day_seven\":{  \"Breakfast\":{\n",
    "                \"Sausage\":[\"Quinoa, mixed veggie, avocado, pineapple, watermelon fruit & sausages\"],\n",
    "                \"Bacon\":[\"\"],\n",
    "                \"Mushrooms\":[\"Quinoa, mixed veggie, avocado, pineapple, watermelon fruit & sausage\"],\n",
    "                \"Options\":[\"Sausage\",\"Bacon\",\"Mushrooms\"],\n",
    "                \"Default\":[\"Quinoa, mixed veggie, avocado, pineapple, watermelon fruit & a protein of your choice.\"],\n",
    "                \"Information\":[\"Per Banana Pancake= 40 calories, A glass of unsweetened yogurt = 59 calories, 1 Sausage = 100 calories, 1 strip Bacon = 42 calories, 1 cup Mushrooms =  21 calories\"]},\n",
    "        \n",
    "              \"Lunch\":{\n",
    "                \"Beef\":[\"Moi-moi, Sauteed vegetables & Beef\"],\n",
    "                \"Fish\":[\"Moi-moi, Sauteed vegetables & Fish\"],\n",
    "                \"Shrimp\":[\"Moi-moi, Sauteed vegetables & Shrimps\"],\n",
    "                \"Chicken\":[\"Moi-moi, Sauteed vegetables & Chicken\"],\n",
    "                \"Pork\":[\"Moi-moi, Sauteed vegetables & Pork\"],\n",
    "                \"Turkey\":[\"Moi-moi, Sauteed vegetables & Turkey\"],\n",
    "                \"Egg\":[\"Moi-moi, Sauteed vegetables & Egg\"],\n",
    "                \"Default\":[\"Moi-moi, Sauteed vegetables & Egg & a protein of your choice.\"],\n",
    "                \"Options\":[\"Beef\",\"Fish\",\"Shrimp\",\"Chicken\",\"Pork\",\"Turkey\",\"Egg\"],\n",
    "                \"Information\": [\"Note- all forms of protein-30g -120g, Moi-moi – 125g – 500calories, Sauteed vegetables-200g- 40 calories, 2  Banana- 200g- 40 calories, Total calories - 700\"]},\n",
    "                \n",
    "              \"Dinner\":{\n",
    "                \"Fish\":[\"Greek salads – kale, red bell pepper, green bell pepper, red onions, cucumber  - Dressing with extra virgin olive oil or coconut oil , lemon, mince garlic, black paper, pinch sea salt ) & Fish\"],\n",
    "                \"Beef\":[\"Greek salads – kale, red bell pepper, green bell pepper, red onions, cucumber  - Dressing with extra virgin olive oil or coconut oil , lemon, mince garlic, black paper, pinch sea salt ) & Beef\"],\n",
    "                \"Shrimp\":[\"Greek salads – kale, red bell pepper, green bell pepper, red onions, cucumber  - Dressing with extra virgin olive oil or coconut oil , lemon, mince garlic, black paper, pinch sea salt ) & Shrimps\"],\n",
    "                \"Chicken\":[\"Greek salads – kale, red bell pepper, green bell pepper, red onions, cucumber  - Dressing with extra virgin olive oil or coconut oil , lemon, mince garlic, black paper, pinch sea salt ) & Chicken\"],\n",
    "                \"Egg\":[\"Greek salads – kale, red bell pepper, green bell pepper, red onions, cucumber  - Dressing with extra virgin olive oil or coconut oil , lemon, mince garlic, black paper, pinch sea salt ) & Egg\"],\n",
    "                \"Pork\":[\"Greek salads – kale, red bell pepper, green bell pepper, red onions, cucumber  - Dressing with extra virgin olive oil or coconut oil , lemon, mince garlic, black paper, pinch sea salt ) & pork ribs\"],\n",
    "                \"Turkey\":[\"Greek salads – kale, red bell pepper, green bell pepper, red onions, cucumber  - Dressing with extra virgin olive oil or coconut oil , lemon, mince garlic, black paper, pinch sea salt ) & turkey\"],\n",
    "                \"Default\":[\"Greek salads – kale, red bell pepper, green bell pepper, red onions, cucumber  - Dressing with extra virgin olive oil or coconut oil , lemon, mince garlic, black paper, pinch sea salt ) & a protein of your choice\"],\n",
    "                \"Options\":[\"Fish\",\"Beef\",\"Shrimp\",\"Chicken\", \"Pork\", \"Turkey\", \"Egg\"],\n",
    "                \"Information\":[\"Egg  -30g -120calories, Greek Salad- 1100g- 220calories, Turkey  -30g -120calories, Pork  -30g -120calories, Chicken -30g -120calories, Shrimps -30g -120calories, Fish  -30g -120calories, Pineapple – 100g -46calories, Beef -30g -120calories\"]},\n",
    "                \n",
    "              \"Snacks\":{\n",
    "                \"Default\":[\"Pineapple – 100g -46calories\"],\n",
    "              \"Information\":[\"Pineapple – 100g -46calories\"]}\n",
    "}}"
   ]
  },
  {
   "cell_type": "code",
   "execution_count": 19,
   "metadata": {},
   "outputs": [
    {
     "output_type": "stream",
     "name": "stdout",
     "text": [
      "here\n"
     ]
    }
   ],
   "source": [
    "##Importing the JSON meal plan file\n",
    "import json\n",
    "\n",
    "with open('meal_plan.json','w', encoding='utf-8') as file:\n",
    "    json.dump(meal_plan, file, ensure_ascii=False, indent=4)\n",
    "\n",
    "with open('meal_plan.json','r', encoding='utf-8') as file:\n",
    "    meal_plan = json.load(file)\n",
    "\n",
    "print('here')"
   ]
  },
  {
   "cell_type": "code",
   "execution_count": 27,
   "metadata": {
    "tags": []
   },
   "outputs": [
    {
     "output_type": "execute_result",
     "data": {
      "text/plain": [
       "['Bacon',\n",
       " 'Beef',\n",
       " 'Chicken',\n",
       " 'Egg',\n",
       " 'Fish',\n",
       " 'Meat',\n",
       " 'Mushrooms',\n",
       " 'Pork',\n",
       " 'Sardine',\n",
       " 'Sausage',\n",
       " 'Shrimp',\n",
       " 'Turkey']"
      ]
     },
     "metadata": {},
     "execution_count": 27
    }
   ],
   "source": [
    "def get_options(json_plan):\n",
    "\n",
    "    '''This function takes meal_plan json and return options you have for the meal in json\n",
    "    Args: takes meal plan dictionary in format (day-> mealtime-> options->[ list of meals]).\n",
    "    result: Returns a list of all available protein options available in the meal plan.'''\n",
    "\n",
    "    choices=[]\n",
    "    for day, meals in json_plan.items(): \n",
    "        for meal, data in json_plan[day].items(): #search through the dictionary and get the options on each meal\n",
    "            if data.get('Options'):\n",
    "                for option in data.get('Options'): \n",
    "                    choices.append(option) #append the options to a list\n",
    "    # choices.sort()\n",
    "    return(sorted(set(choices))) #set returns only unique values and sorted sorts the unique items into a list\n",
    "\n",
    "all_options = get_options(meal_plan)\n",
    "all_options"
   ]
  },
  {
   "source": [
    "### Users Choices should be entered by the user. Below we assume a sample list"
   ],
   "cell_type": "markdown",
   "metadata": {}
  },
  {
   "cell_type": "code",
   "execution_count": 3,
   "metadata": {},
   "outputs": [],
   "source": [
    "#The user is expected to enter these choices in the app\n",
    "user_choices = ['Egg', 'Fish', 'Shrimp', 'Chicken', 'Pork', 'Turkey', 'Beef', 'Bacon', 'Mushrooms']"
   ]
  },
  {
   "source": [
    "## Create A Meal Plan\n",
    "\n",
    "These functions create an arbitrary meal plan by selecting the day, meal type (breakfast, lunch, dinner, snacks). The meal plan below is not randomized. See below for an indepth plan."
   ],
   "cell_type": "markdown",
   "metadata": {}
  },
  {
   "cell_type": "code",
   "execution_count": 71,
   "metadata": {},
   "outputs": [
    {
     "output_type": "execute_result",
     "data": {
      "text/plain": [
       "'Day_one'"
      ]
     },
     "metadata": {},
     "execution_count": 71
    }
   ],
   "source": [
    "def get_random_day(meal_plan):\n",
    "    '''This function picks a day from the list of days in the meal plan. \n",
    "    This function also uses the random function from the python library.\n",
    "    Args: takes meal plan dictionary in format (day-> mealtime-> options-> [ list of meals]).\n",
    "    result: Returns a random day (string )from the meal_plan.\n",
    "    '''\n",
    "    #go through the meal plan days and pick a random choice from day_1 to day_7\n",
    "    return random.choices(list(meal_plan.keys()))[0]\n",
    "    \n",
    "\n",
    "get_random_day(meal_plan)\n"
   ]
  },
  {
   "cell_type": "code",
   "execution_count": 76,
   "metadata": {},
   "outputs": [
    {
     "output_type": "execute_result",
     "data": {
      "text/plain": [
       "'Meal: Baked sweet potatoes. Mixed veggies: Onions, ginger garlic, bell papers ,carrots , green beans. Tomato sauce: Garlic, onions, basil, tomatoes, chili pepper. Protein:Egg '"
      ]
     },
     "metadata": {},
     "execution_count": 76
    }
   ],
   "source": [
    "def get_random_meal_from(data,search):\n",
    "    '''This function picks a random meal from a dictionary given the search criteria. \n",
    "    This function also uses the random function from the python library.\n",
    "    Args: 1.Takes a meal plan dictionary in format (day-> mealtime-> options->[ list of meals]).Format: meal_plan[day][mealtime]\n",
    "          2.Takes search key option [String] of any from the user_choice \n",
    "    result: Returns a random meal (string) from the data.\n",
    "    '''\n",
    "#     print(data)\n",
    "#     print('====')\n",
    "    meal = data.get(search)\n",
    "#     print(meal)\n",
    "    #generate a random integer between 0 and X. random.randint will return 0 if X is 0.\n",
    "    meal_type = random.randint(0, len(meal)-1)\n",
    "    #return a meal using the meal_type value\n",
    "    return meal[meal_type]\n",
    "\n",
    "# print(meal_plan['Day_one']['Breakfast'].get('Egg'))\n",
    "get_random_meal_from(meal_plan['Day_one']['Lunch'], 'Egg')"
   ]
  },
  {
   "cell_type": "code",
   "execution_count": 56,
   "metadata": {},
   "outputs": [],
   "source": [
    "def create_meal_plan(meal_plan, users_choices):\n",
    "    '''This creates a meal plan from the meal_plan  dictionary\n",
    "    Args: 1. takes meal plan dictionary in format (day-> mealtime -> options->[ list of meals]).\n",
    "          2. takes the users choices as a list of proteins.\n",
    "    result: Returns a dictionary in format (day-> mealime-> meal).\n",
    "    '''    \n",
    "    custom_meal_plan = {}\n",
    "    daycount = 0\n",
    "    for day, meals in meal_plan.items():\n",
    "        #create a space in the dictionary to record day\n",
    "        if not custom_meal_plan.get(daycount):\n",
    "            custom_meal_plan[daycount] = {}    \n",
    "\n",
    "        for meal, data in meal_plan[day].items():\n",
    "            #if there are protein options for a meal, check the options\n",
    "            if data.get('Options'):\n",
    "                choices = [option for option in data.get('Options') if option in users_choices]\n",
    "                \n",
    "                #check if the options match with the users selected protein choices, pick one at random\n",
    "                if choices:\n",
    "                    choice = random.choices(choices)[0]\n",
    "                    custom_meal_plan[daycount][meal] = get_random_meal_from(data,choice)\n",
    "\n",
    "                else:\n",
    "                    #if the choices do not match with the users selected protein options, go with the default meal\n",
    "                    custom_meal_plan[daycount][meal] = get_random_meal_from(data,'Default')\n",
    "            else:\n",
    "                #if there are no options go with the default meal\n",
    "                custom_meal_plan[daycount][meal] = get_random_meal_from(data,'Default')\n",
    "                daycount +=1\n",
    "    return custom_meal_plan"
   ]
  },
  {
   "cell_type": "code",
   "execution_count": 58,
   "metadata": {},
   "outputs": [
    {
     "output_type": "stream",
     "name": "stdout",
     "text": [
      "{'Egg': ['A Bowl of pawpaw, one slice of toast bread & Egg'], 'Sausage': ['A Bowl of pawpaw, one slice of toast bread & Sausage'], 'Chicken': ['A Bowl of pawpaw, one slice of toast bread & Chicken'], 'Bacon': ['A Bowl of pawpaw, one slice of toast bread & Bacon'], 'Mushrooms': ['A Bowl of pawpaw, one slice of toast bread & Mushrooms'], 'Sardine': ['A Bowl of pawpaw, one slice of toast bread & Sardine'], 'Default': ['A Bowl of pawpaw, one slice of toast bread & a protein of your choice'], 'Options': ['Egg', 'Sausage', 'Chicken', 'Bacon', 'Mushrooms', 'Sardine'], 'Information': ['Note - all forms of protein- 30g (1/2 cup) - 120 calories (without oil), Baked potatoes – 120g – 480calories, Mixed veggies, leafy green or tomatoes sauce –500g =  100calories']}\n['Egg', 'Chicken', 'Bacon', 'Mushrooms']\n{'Beef': ['Meal: Baked sweet potatoes. Mixed veggies: Onions, ginger garlic, bell papers ,carrots , green beans. Tomato sauce: Garlic, onions, basil, tomatoes, chili pepper. Protein: Beef'], 'Fish': ['Meal: Baked sweet potatoes. Mixed veggies: Onions, ginger garlic, bell papers ,carrots , green beans. Tomato sauce: Garlic, onions, basil, tomatoes, chili pepper. Protein: Fish'], 'Shrimp': ['Meal: Baked sweet potatoes. Mixed veggies: Onions, ginger garlic, bell papers ,carrots , green beans. Tomato sauce: Garlic, onions, basil, tomatoes, chili pepper. Protein: Shrimp'], 'Chicken': ['Meal: Baked sweet potatoes. Mixed veggies: Onions, ginger garlic, bell papers ,carrots , green beans. Tomato sauce: Garlic, onions, basil, tomatoes, chili pepper. Protein: Chicken'], 'Pork': ['Meal: Baked sweet potatoes. Mixed veggies: Onions, ginger garlic, bell papers ,carrots , green beans. Tomato sauce: Garlic, onions, basil, tomatoes, chili pepper. Protein: Pork'], 'Turkey': ['Meal: Baked sweet potatoes. Mixed veggies: Onions, ginger garlic, bell papers ,carrots , green beans. Tomato sauce: Garlic, onions, basil, tomatoes, chili pepper. Protein: Turkey'], 'Egg': ['Meal: Baked sweet potatoes. Mixed veggies: Onions, ginger garlic, bell papers ,carrots , green beans. Tomato sauce: Garlic, onions, basil, tomatoes, chili pepper. Protein:Egg '], 'Default': ['Meal: Baked sweet potatoes. Mixed veggies: Onions, ginger garlic, bell papers ,carrots , green beans. Tomato sauce: Garlic, onions, basil, tomatoes, chili pepper. Protein: Add a protein of your choice.'], 'Options': ['Egg', 'Beef', 'Fish', 'Shrimp', 'Chicken', 'Pork', 'Turkey'], 'Information': ['Egg- 20g = 80 calories, Pawpaw - 500g = 100 calories, 1 slice bread = 65 calories, 1 link chicken, Sausage = 100calories, 1 strip of Bacon = 42 calories, One cup of Mushrooms = 21 calories, 1 quarter can oF sardine = 65calories']}\n['Egg', 'Beef', 'Fish', 'Shrimp', 'Chicken', 'Pork', 'Turkey']\n{'Fish': ['Steamed vegetables – carrots, cauliflower, green peas, ginger, garlic, bell papers (red, yellow, green) & Fish'], 'Shrimp': ['Steamed vegetables – carrots, cauliflower, green peas, ginger, garlic, bell papers (red, yellow, green) & Shrimp'], 'Chicken': ['Steamed vegetables – carrots, cauliflower, green peas, ginger, garlic, bell papers (red, yellow, green) & Chicken'], 'Pork': ['Steamed vegetables – carrots, cauliflower, green peas, ginger, garlic, bell papers (red, yellow, green) & Pork'], 'Turkey': ['Steamed vegetables – carrots, cauliflower, green peas, ginger, garlic, bell papers (red, yellow, green) & Turkey'], 'Egg': ['Steamed vegetables – carrots, cauliflower, green peas, ginger, garlic, bell papers (red, yellow, green) & Egg'], 'Default': ['Steamed vegetables – carrots, cauliflower, green peas, ginger, garlic, bell papers (red, yellow, green) & a protein of your choice'], 'Options': ['Egg', 'Fish', 'Shrimp', 'Chicken', 'Pork', 'Turkey'], 'Information': ['Steamed veggies -1000g -100calories, Egg -30g-120calories, Turkey -30g-120calories, Pork -30g-120calories, Beef-30g-120calories, Fish -30g-120calories, Shrimps -30g-120calories, Chicken -30g-120calories']}\n['Egg', 'Fish', 'Shrimp', 'Chicken', 'Pork', 'Turkey']\n"
     ]
    }
   ],
   "source": [
    "for meal, data in meal_plan['Day_one'].items():\n",
    "    if data.get('Options'):\n",
    "        # print(data)\n",
    "            "
   ]
  },
  {
   "source": [
    "### Note that the meal plans are not randomized. See examples below"
   ],
   "cell_type": "markdown",
   "metadata": {}
  },
  {
   "cell_type": "code",
   "execution_count": 57,
   "metadata": {
    "tags": [
     "outputPrepend"
    ]
   },
   "outputs": [
    {
     "output_type": "stream",
     "name": "stdout",
     "text": [
      "c, bell papers ,carrots , green beans. Tomato sauce: Garlic, onions, basil, tomatoes, chili pepper. Protein: Turkey'], 'Egg': ['Meal: Baked sweet potatoes. Mixed veggies: Onions, ginger garlic, bell papers ,carrots , green beans. Tomato sauce: Garlic, onions, basil, tomatoes, chili pepper. Protein:Egg '], 'Default': ['Meal: Baked sweet potatoes. Mixed veggies: Onions, ginger garlic, bell papers ,carrots , green beans. Tomato sauce: Garlic, onions, basil, tomatoes, chili pepper. Protein: Add a protein of your choice.'], 'Options': ['Egg', 'Beef', 'Fish', 'Shrimp', 'Chicken', 'Pork', 'Turkey'], 'Information': ['Egg- 20g = 80 calories, Pawpaw - 500g = 100 calories, 1 slice bread = 65 calories, 1 link chicken, Sausage = 100calories, 1 strip of Bacon = 42 calories, One cup of Mushrooms = 21 calories, 1 quarter can oF sardine = 65calories']}\n====\n['Meal: Baked sweet potatoes. Mixed veggies: Onions, ginger garlic, bell papers ,carrots , green beans. Tomato sauce: Garlic, onions, basil, tomatoes, chili pepper. Protein: Chicken']\n{'Fish': ['Steamed vegetables – carrots, cauliflower, green peas, ginger, garlic, bell papers (red, yellow, green) & Fish'], 'Shrimp': ['Steamed vegetables – carrots, cauliflower, green peas, ginger, garlic, bell papers (red, yellow, green) & Shrimp'], 'Chicken': ['Steamed vegetables – carrots, cauliflower, green peas, ginger, garlic, bell papers (red, yellow, green) & Chicken'], 'Pork': ['Steamed vegetables – carrots, cauliflower, green peas, ginger, garlic, bell papers (red, yellow, green) & Pork'], 'Turkey': ['Steamed vegetables – carrots, cauliflower, green peas, ginger, garlic, bell papers (red, yellow, green) & Turkey'], 'Egg': ['Steamed vegetables – carrots, cauliflower, green peas, ginger, garlic, bell papers (red, yellow, green) & Egg'], 'Default': ['Steamed vegetables – carrots, cauliflower, green peas, ginger, garlic, bell papers (red, yellow, green) & a protein of your choice'], 'Options': ['Egg', 'Fish', 'Shrimp', 'Chicken', 'Pork', 'Turkey'], 'Information': ['Steamed veggies -1000g -100calories, Egg -30g-120calories, Turkey -30g-120calories, Pork -30g-120calories, Beef-30g-120calories, Fish -30g-120calories, Shrimps -30g-120calories, Chicken -30g-120calories']}\n====\n['Steamed vegetables – carrots, cauliflower, green peas, ginger, garlic, bell papers (red, yellow, green) & Chicken']\n{'Default': ['Mixed Nuts -20g- 80calories'], 'Information': ['Mixed Nuts -20g- 80calories']}\n====\n['Mixed Nuts -20g- 80calories']\n{'Egg': ['1  boiled potato, steamed mixed vegetable, A cup of green tea & Scrambled Eggs'], 'Sausage': ['1  boiled potato, steamed mixed vegetable, A cup of green tea & Sausages'], 'Bacon': ['1  boiled potato, steamed mixed vegetable, A cup of green tea & Bacon'], 'Mushrooms': ['1  boiled potato, steamed mixed vegetable, A cup of green tea & Mushrooms'], 'Sardine': ['1  boiled potato, steamed mixed vegetable, A cup of green tea & Sardine'], 'Default': ['1  boiled potato, steamed mixed vegetable, A cup of green tea & a protein of your choice.'], 'Options': ['Egg', 'Sausage', 'Bacon', 'Mushrooms', 'Sardine'], 'Information': ['Egg - 20g= 80 calories, Pawpaw- 500g = 100 calories,1 sliced bread = 65 calories, 1 link chicken, Sausage = 100calories, 1 strip of Bacon = 42 calories, One cup Mushrooms = 21 calories, 1 quarter can of Sardine = 65calories']}\n====\n['1  boiled potato, steamed mixed vegetable, A cup of green tea & a protein of your choice.']\n{'Egg': ['Beans and plantain pottage with vegetables & Eggs'], 'Chicken': ['Beans and plantain pottage with vegetables & Chicken'], 'Pork': ['Beans and plantain pottage with vegetables & Pork'], 'Turkey': ['Beans and plantain pottage with vegetables & Turkey'], 'Default': ['Beans and plantain pottage with vegetables & a protein of your choice'], 'Options': ['Egg', 'Chicken', 'Pork', 'Turkey'], 'Information': ['Note – all forms of protein – 30g – 120 calories –(without oil), Beans – 100g – 400calories –cooked without oil, Plantain -25g (boiled) - 100calories, Vegetables – 400g – 80 calories, Total calories – 700']}\n====\n['Beans and plantain pottage with vegetables & Chicken']\n{'Fish': ['Pepper soup – uziza leaf & Fish'], 'Chicken': ['Pepper soup – uziza leaf & Chopped Chicken'], 'Beef': ['Pepper soup – uziza leaf & Chopped beef'], 'Pork': ['Pepper soup – uziza leaf & Chopped pork'], 'Turkey': ['Pepper soup – uziza leaf & Chopped turkey'], 'Default': ['Pepper soup – uziza leaf & a protein of your choice'], 'Options': ['Chicken', 'Fish', 'Beef', 'Pork', 'Turkey'], 'Information': ['Beef – 60g – 240kcalories, Fish – 60g- uziza leaf, Chicken – 60g – 240kcalories, Pork- 60g- 240calories, Turkey – 60g-240kcalories']}\n====\n['Pepper soup – uziza leaf & Chopped Chicken']\n{'Default': ['Cucumber 1 medium(150g)- 20calories'], 'Information': ['Cucumber 1 medium(150g)- 20calories']}\n====\n['Cucumber 1 medium(150g)- 20calories']\n{'Egg': ['Quaker Oat+ Bowl of Pawpaw & boiled egg', 'Unsweetened oats, fruits ( 1 banana, half an apple and dates), boiled egg & Tea'], 'Default': ['Oat Granola Cereal (1/2Cup) + Soy Milk + Green Juice smoothie (Kale, Cucumber, celery, apple)', 'A bowl of cereal, Banana Smoothie Oat Cereal &  Milk Alternative (soy milk)', 'Fruity Cereal, greek yogurt & berries', 'Mixed fruit granula + plant based milk(coconut milk)'], 'Options': ['Egg'], 'Information': ['1 cup of Banana smoothie = 224 calories, 1 cup of green smoothie = 83 calories, 1 glass of soymilk = 127 calories, 1/2 cup of Oat granola =  195 calories, 1 Cup Unsweetened oat= 156 calories, 1 cup Quaker oat= 158 calories, 1 cup cereal = 100 calories, 1 Egg= 78 calories, 1 cup of Greek Yogurt = 59 calories']}\n====\n['Oat Granola Cereal (1/2Cup) + Soy Milk + Green Juice smoothie (Kale, Cucumber, celery, apple)', 'A bowl of cereal, Banana Smoothie Oat Cereal &  Milk Alternative (soy milk)', 'Fruity Cereal, greek yogurt & berries', 'Mixed fruit granula + plant based milk(coconut milk)']\n{'Meat': ['Jollof rice (basmati), Salad & Meat'], 'Beef': ['Jollof rice (basmati), Salad & Beef'], 'Fish': ['Jollof rice (basmati), Salad & Fish'], 'Shrimp': ['Jollof rice (basmati), Salad & Shrimp'], 'Chicken': ['Jollof rice (basmati), Salad & Chicken'], 'Pork': ['Jollof rice (basmati), Salad & Pork'], 'Turkey': ['Jollof rice (basmati), Salad & Turkey'], 'Egg': ['Jollof rice (basmati), Salad & Egg'], 'Default': ['Jollof rice (basmati), Salad & a protein of your choice'], 'Options': ['Meat', 'Beef', 'Fish', 'Shrimp', 'Chicken', 'Pork', 'Turkey', 'Egg'], 'Information': ['Note – all forms of protein – 30g – 120 calories, Rice – 125g – 500calories (boiled), Seasonal salad - 400g – 80calories']}\n====\n['Jollof rice (basmati), Salad & Chicken']\n{'Fish': ['Boiled plantain & garden egg sauces & Fish'], 'Chicken': ['Boiled plantain & garden egg sauces & grilled Chicken'], 'Shrimp': ['Boiled plantain & garden egg sauces & Shrimps'], 'Beef': ['Boiled plantain & garden egg sauces & Beef'], 'Pork': ['Boiled plantain & garden egg sauces & grilled pork'], 'Turkey': ['Boiled plantain & garden egg sauces & grilled turkey'], 'Default': ['Boiled plantain & garden egg sauces & a protein of your choice'], 'Options': ['Chicken', 'Fish', 'Beef', 'Pork', 'Turkey', 'Shrimp'], 'Information': ['Fish -30g- 120calories, Boiled Plantain 30g-120 calories, Garden Egg- 25g- 100 calories, Egg- 30g -120 calories, Turkey - 30g-120 calories, Pork- 30g-120 calories, Chicken - 30g- 120calories, Shrimps-30g - 120calories']}\n====\n['Boiled plantain & garden egg sauces & grilled Chicken']\n{'Default': ['Pawpaw- 100g – 32calories'], 'Information': ['Pawpaw- 100g – 32calories']}\n====\n['Pawpaw- 100g – 32calories']\n{'Fish': ['Honey sweetened Pap, Moi Moi & grilled fish'], 'Chicken': ['Honey sweetened Pap, Moi Moi & Chicken'], 'Egg': ['Honey sweetened Pap, Moi Moi & Egg'], 'Sausage': ['Honey sweetened Pap, Moi Moi & Sausage'], 'Default': ['Honey sweetened Pap, Moi Moi & a protein of your choice'], 'Options': ['Egg', 'Sausage', 'Chicken', 'Fish'], 'Information': ['Pap- 20g = 80 calories, moimoi - 50g = 200 calories, Fish - 30g = 120 calories, 1 link Sausage = 100 calories, 1 boiled egg = 78calories, 1 chicken thigh - 238 calories']}\n====\n['Honey sweetened Pap, Moi Moi & Chicken']\n{'Beef': ['Amala (White or Black) with Okra Soup & Mixed Vegetables & Beef'], 'Fish': ['Amala (White or Black) with Okra Soup & Mixed Vegetables & Fish'], 'Chicken': ['Amala (White or Black) with Okra Soup & Mixed Vegetables & Chicken'], 'Pork': ['Amala (White or Black) with Okra Soup & Mixed Vegetables & Pork'], 'Turkey': ['Amala (White or Black) with Okra Soup & Mixed Vegetables & Turkey'], 'Default': ['Amala (White or Black) with Okra Soup & Mixed Vegetables & a protein of your choice'], 'Options': ['Beef', 'Fish', 'Chicken', 'Pork', 'Turkey'], 'Information': ['Note – all forms of protein – 30g- 120calories Amala – 125g -  500calories, Okra soup with vegetables – 400g – 80calories, Total calories - 700']}\n====\n['Amala (White or Black) with Okra Soup & Mixed Vegetables & Chicken']\n{'Beef': ['Moi- moi & veggies –(mixed veggies –carrots, peas, corn, sweet paper, garlic & ginger) & Beef'], 'Fish': ['Moi- moi & veggies –(mixed veggies –carrots, peas, corn, sweet paper, garlic & ginger) & Fish'], 'Shrimp': ['Moi- moi & veggies –(mixed veggies –carrots, peas, corn, sweet paper, garlic & ginger) & Shrimps'], 'Chicken': ['Moi- moi & veggies –(mixed veggies –carrots, peas, corn, sweet paper, garlic & ginger) & Chicken'], 'Pork': ['Boiled plantain & garden egg sauces & grilled pork'], 'Turkey': ['Moi- moi & veggies –(mixed veggies –carrots, peas, corn, sweet paper, garlic & ginger) & Turkey'], 'Egg': ['Moi- moi & veggies –(mixed veggies –carrots, peas, corn, sweet paper, garlic & ginger) & Egg'], 'Default': ['Moi- moi & veggies –(mixed veggies –carrots, peas, corn, sweet paper, garlic & ginger) & a protein of your choice'], 'Options': ['Chicken', 'Fish', 'Beef', 'Pork', 'Turkey', 'Shrimp', 'Egg'], 'Information': ['Beef- 30g- 120calories, Moi-moi- 25g- 100calories, Veggies – 600g – 120 calories, Egg - 600g- 120calories, Turkey - 600g- 120calories, Pork - 30g- 120calories, Chicken - 30g- 120calories, Shrimps - 30g- 120calories, Fish - 30g- 120calories']}\n====\n['Moi- moi & veggies –(mixed veggies –carrots, peas, corn, sweet paper, garlic & ginger) & Chicken']\n{'Default': ['Banana -1 medium size -100g -139calories'], 'Information': ['Banana -1 medium size -100g -139calories']}\n====\n['Banana -1 medium size -100g -139calories']\n{'Fish': ['Unripe/Semi ripe Grilled Plantain, Vegetable Sauce & Grilled Fish'], 'Egg': ['Unripe/Semi ripe Grilled Plantain, Vegetable Sauce & Scrambled Egg'], 'Turkey': ['Unripe/Semi ripe Grilled Plantain, Vegetable Sauce & grilled Turkey'], 'Chicken': ['Unripe/Semi ripe Grilled Plantain, Vegetable Sauce & Chopped Chicken'], 'Shrimp': ['Unripe/Semi ripe Grilled Plantain, Vegetable Sauce & Shrimp'], 'Default': ['Unripe/Semi ripe Grilled Plantain, Vegetable Sauce & a protein of your choice'], 'Options': ['Fish', 'Egg', 'Turkey', 'Chicken', 'Shrimp'], 'Information': ['Unripe plantain - 50g = 200 calories, Vegetables - 20g = 80 calories, Fish- 30g = 120 calories, 85g of grilled turkey = 177 calories, 85g of grilled Chicken breast = 110 calories, 85g Shrimp= 85 calories']}\n====\n['Unripe/Semi ripe Grilled Plantain, Vegetable Sauce & Chopped Chicken']\n{'Meat': ['Plantain flour swallow Edikaikong soup (Oil free) & Meat'], 'Beef': ['Plantain flour swallow Edikaikong soup (Oil free) & Beef'], 'Fish': ['Plantain flour swallow Edikaikong soup (Oil free) & Fish'], 'Chicken': ['Plantain flour swallow Edikaikong soup (Oil free) & Chicken'], 'Pork': ['Plantain flour swallow Edikaikong soup (Oil free) & Pork'], 'Turkey': ['Plantain flour swallow Edikaikong soup (Oil free) & Turkey'], 'Default': ['Plantain flour swallow Edikaikong soup (Oil free) & a protein of your choice'], 'Options': ['Meat', 'Beef', 'Fish', 'Chicken', 'Pork', 'Turkey'], 'Information': ['Note – all forms of protein – 30g – 120 calories, Plantain Flour Swallow – 125g – 244 calories, Edikaikong soup – 400g – 300 calories, 1 Apple = 95 calories']}\n====\n['Plantain flour swallow Edikaikong soup (Oil free) & Chicken']\n{'Fish': ['Seasonal vegetable stir-fry  (Carrot, green beans, garlic, ginger, bell paper, cucumber) & Fish'], 'Chicken': ['Seasonal vegetable stir-fry  (Carrot, green beans, garlic, ginger, bell paper, cucumber) & Chicken'], 'Shrimp': ['Seasonal vegetable stir-fry  (Carrot, green beans, garlic, ginger, bell paper, cucumber) & Shrimps'], 'Beef': ['Seasonal vegetable stir-fry  (Carrot, green beans, garlic, ginger, bell paper, cucumber) & Beef'], 'Pork': ['Seasonal vegetable stir-fry  (Carrot, green beans, garlic, ginger, bell paper, cucumber) & pork'], 'Turkey': ['Seasonal vegetable stir-fry  (Carrot, green beans, garlic, ginger, bell paper, cucumber) & turkey'], 'Default': ['Seasonal vegetable stir-fry  (Carrot, green beans, garlic, ginger, bell paper, cucumber) & a protein of your choice'], 'Options': ['Chicken', 'Fish', 'Beef', 'Pork', 'Turkey', 'Shrimp'], 'Information': ['Turkey  – 30g- 120calories, Vegetables – 1100g – 220calories, Pork – 30g- 120calories, Shrimps  – 30g- 120calories, Fish  – 30g- 120calories, Beef – 30g- 120calories, Chicken- 30g- 120calories']}\n====\n['Seasonal vegetable stir-fry  (Carrot, green beans, garlic, ginger, bell paper, cucumber) & Chicken']\n{'Default': ['Apple -60 calories'], 'Information': ['Apple -60 calories']}\n====\n['Apple -60 calories']\n{'Sausage': ['Quinoa, mixed veggie, avocado, pineapple, watermelon fruit & sausages'], 'Egg': ['Quinoa, mixed veggie, avocado, pineapple, watermelon fruit & boiled egg'], 'Turkey': ['Quinoa, mixed veggie, avocado, pineapple, watermelon fruit & turkey'], 'Chicken': ['Quinoa, mixed veggie, avocado, pineapple, watermelon fruit & chicken stir fry'], 'Fish': ['Quinoa, mixed veggie, avocado, pineapple, watermelon fruit & grilled fish'], 'Default': ['Quinoa, mixed veggie, avocado, pineapple, watermelon fruit & a protein of your choice'], 'Options': ['Sausage', 'Egg', 'Turkey', 'Chicken', 'Fish'], 'Information': ['1/2 cup of  Quinoa= 114 calories, Fish- 30g = 120 calories, 85g of grilled turkey= 177 calories, 85g of grilled Chicken breast =110 calories, 85g Shrimp=  85 calories, 1/5 Avocado= 64 calories, 1 cup diced watermelon= 30 calories, 1 cup diced Pineapple = 1 serving of steamed mixed Vegetable= 50 calories']}\n====\n['Quinoa, mixed veggie, avocado, pineapple, watermelon fruit & chicken stir fry']\n{'Beef': ['Boiled, baked or roasted Yam with Garden egg sauce & mushroom & Beef'], 'Fish': ['Boiled, baked or roasted Yam with Garden egg sauce & mushroom & Fish'], 'Shrimp': ['Boiled, baked or roasted Yam with Garden egg sauce & mushroom & Shrimp'], 'Chicken': ['Boiled, baked or roasted Yam with Garden egg sauce & mushroom & Chicken'], 'Pork': ['Boiled, baked or roasted Yam with Garden egg sauce & mushroom & Pork'], 'Turkey': ['Boiled, baked or roasted Yam with Garden egg sauce & mushroom & Turkey'], 'Egg': ['Boiled, baked or roasted Yam with Garden egg sauce & mushroom & Egg'], 'Default': ['Boiled, baked or roasted Yam with Garden egg sauce & mushroom & a protein of your choice.'], 'Options': ['Beef', 'Fish', 'Shrimp', 'Chicken', 'Pork', 'Turkey', 'Egg'], 'Information': ['Note- all forms of protein-30g- 120calories, Boiled yam-125g- 500calories, Garden egg sauce with mushroom -400g -80calories, Total calories - 700']}\n====\n['Boiled, baked or roasted Yam with Garden egg sauce & mushroom & Chicken']\n{'Fish': ['Vegetable salad – all green & Fish'], 'Chicken': ['Vegetable salad – all green & Chicken'], 'Egg': ['Vegetable salad – all green & Egg'], 'Beef': ['Vegetable salad – all green & Beef'], 'Pork': ['Vegetable salad – all green & pork ribs'], 'Turkey': ['Vegetable salad – all green & turkey'], 'Default': ['Vegetable salad – all green & a protein of your choice'], 'Options': ['Chicken', 'Fish', 'Beef', 'Pork', 'Turkey', 'Egg'], 'Information': ['Egg -30g- 120calories, Salad- 1100g- 220calories, Turkey -30g- 120calories, pork-30g- 120calories, Chicken -30g- 120calories, Beef-30g- 120calories']}\n====\n['Vegetable salad – all green & Chicken']\n{'Default': ['Carrots -1 medium size - 60g - 29 calories'], 'Information': ['Carrots - 1 medium size -60g - 29 calories']}\n====\n['Carrots -1 medium size - 60g - 29 calories']\n{'Sausage': ['Quinoa, mixed veggie, avocado, pineapple, watermelon fruit & sausages'], 'Bacon': [''], 'Mushrooms': ['Quinoa, mixed veggie, avocado, pineapple, watermelon fruit & sausage'], 'Options': ['Sausage', 'Bacon', 'Mushrooms'], 'Default': ['Quinoa, mixed veggie, avocado, pineapple, watermelon fruit & a protein of your choice.'], 'Information': ['Per Banana Pancake= 40 calories, A glass of unsweetened yogurt = 59 calories, 1 Sausage = 100 calories, 1 strip Bacon = 42 calories, 1 cup Mushrooms =  21 calories']}\n====\n['Quinoa, mixed veggie, avocado, pineapple, watermelon fruit & a protein of your choice.']\n{'Beef': ['Moi-moi, Sauteed vegetables & Beef'], 'Fish': ['Moi-moi, Sauteed vegetables & Fish'], 'Shrimp': ['Moi-moi, Sauteed vegetables & Shrimps'], 'Chicken': ['Moi-moi, Sauteed vegetables & Chicken'], 'Pork': ['Moi-moi, Sauteed vegetables & Pork'], 'Turkey': ['Moi-moi, Sauteed vegetables & Turkey'], 'Egg': ['Moi-moi, Sauteed vegetables & Egg'], 'Default': ['Moi-moi, Sauteed vegetables & Egg & a protein of your choice.'], 'Options': ['Beef', 'Fish', 'Shrimp', 'Chicken', 'Pork', 'Turkey', 'Egg'], 'Information': ['Note- all forms of protein-30g -120g, Moi-moi – 125g – 500calories, Sauteed vegetables-200g- 40 calories, 2  Banana- 200g- 40 calories, Total calories - 700']}\n====\n['Moi-moi, Sauteed vegetables & Chicken']\n{'Fish': ['Greek salads – kale, red bell pepper, green bell pepper, red onions, cucumber  - Dressing with extra virgin olive oil or coconut oil , lemon, mince garlic, black paper, pinch sea salt ) & Fish'], 'Beef': ['Greek salads – kale, red bell pepper, green bell pepper, red onions, cucumber  - Dressing with extra virgin olive oil or coconut oil , lemon, mince garlic, black paper, pinch sea salt ) & Beef'], 'Shrimp': ['Greek salads – kale, red bell pepper, green bell pepper, red onions, cucumber  - Dressing with extra virgin olive oil or coconut oil , lemon, mince garlic, black paper, pinch sea salt ) & Shrimps'], 'Chicken': ['Greek salads – kale, red bell pepper, green bell pepper, red onions, cucumber  - Dressing with extra virgin olive oil or coconut oil , lemon, mince garlic, black paper, pinch sea salt ) & Chicken'], 'Egg': ['Greek salads – kale, red bell pepper, green bell pepper, red onions, cucumber  - Dressing with extra virgin olive oil or coconut oil , lemon, mince garlic, black paper, pinch sea salt ) & Egg'], 'Pork': ['Greek salads – kale, red bell pepper, green bell pepper, red onions, cucumber  - Dressing with extra virgin olive oil or coconut oil , lemon, mince garlic, black paper, pinch sea salt ) & pork ribs'], 'Turkey': ['Greek salads – kale, red bell pepper, green bell pepper, red onions, cucumber  - Dressing with extra virgin olive oil or coconut oil , lemon, mince garlic, black paper, pinch sea salt ) & turkey'], 'Default': ['Greek salads – kale, red bell pepper, green bell pepper, red onions, cucumber  - Dressing with extra virgin olive oil or coconut oil , lemon, mince garlic, black paper, pinch sea salt ) & a protein of your choice'], 'Options': ['Fish', 'Beef', 'Shrimp', 'Chicken', 'Pork', 'Turkey', 'Egg'], 'Information': ['Egg  -30g -120calories, Greek Salad- 1100g- 220calories, Turkey  -30g -120calories, Pork  -30g -120calories, Chicken -30g -120calories, Shrimps -30g -120calories, Fish  -30g -120calories, Pineapple – 100g -46calories, Beef -30g -120calories']}\n====\n['Greek salads – kale, red bell pepper, green bell pepper, red onions, cucumber  - Dressing with extra virgin olive oil or coconut oil , lemon, mince garlic, black paper, pinch sea salt ) & Chicken']\n{'Default': ['Pineapple – 100g -46calories'], 'Information': ['Pineapple – 100g -46calories']}\n====\n['Pineapple – 100g -46calories']\n"
     ]
    }
   ],
   "source": [
    "## Note the meal plans are almost always in the same format though slightly different\n",
    "assert(create_meal_plan(meal_plan,user_choices) != create_meal_plan(meal_plan,user_choices))\n",
    "assert(create_meal_plan(meal_plan,[\"Beef\"]) != create_meal_plan(meal_plan,user_choices))\n",
    "assert(create_meal_plan(meal_plan,[\"Chicken\"]) == create_meal_plan(meal_plan,[\"Chicken\"]))"
   ]
  },
  {
   "source": [
    "Taking examples on how the data can be accessed."
   ],
   "cell_type": "markdown",
   "metadata": {}
  },
  {
   "cell_type": "code",
   "execution_count": null,
   "metadata": {
    "tags": []
   },
   "outputs": [],
   "source": [
    "create_meal_plan(meal_plan,[\"Chicken\"])"
   ]
  },
  {
   "cell_type": "code",
   "execution_count": 48,
   "metadata": {},
   "outputs": [
    {
     "output_type": "execute_result",
     "data": {
      "text/plain": [
       "{0: {'Breakfast': 'A Bowl of pawpaw, one slice of toast bread & a protein of your choice',\n",
       "  'Lunch': 'Meal: Baked sweet potatoes. Mixed veggies: Onions, ginger garlic, bell papers ,carrots , green beans. Tomato sauce: Garlic, onions, basil, tomatoes, chili pepper. Protein: Beef',\n",
       "  'Dinner': 'Steamed vegetables – carrots, cauliflower, green peas, ginger, garlic, bell papers (red, yellow, green) & a protein of your choice',\n",
       "  'Snacks': 'Mixed Nuts -20g- 80calories'},\n",
       " 1: {'Breakfast': '1  boiled potato, steamed mixed vegetable, A cup of green tea & a protein of your choice.',\n",
       "  'Lunch': 'Beans and plantain pottage with vegetables & a protein of your choice',\n",
       "  'Dinner': 'Pepper soup – uziza leaf & Chopped beef',\n",
       "  'Snacks': 'Cucumber 1 medium(150g)- 20calories'},\n",
       " 2: {'Breakfast': 'Mixed fruit granula + plant based milk(coconut milk)',\n",
       "  'Lunch': 'Jollof rice (basmati), Salad & Beef',\n",
       "  'Dinner': 'Boiled plantain & garden egg sauces & Beef',\n",
       "  'Snacks': 'Pawpaw- 100g – 32calories'},\n",
       " 3: {'Breakfast': 'Honey sweetened Pap, Moi Moi & a protein of your choice',\n",
       "  'Lunch': 'Amala (White or Black) with Okra Soup & Mixed Vegetables & Beef',\n",
       "  'Dinner': 'Moi- moi & veggies –(mixed veggies –carrots, peas, corn, sweet paper, garlic & ginger) & Beef',\n",
       "  'Snacks': 'Banana -1 medium size -100g -139calories'},\n",
       " 4: {'Breakfast': 'Unripe/Semi ripe Grilled Plantain, Vegetable Sauce & a protein of your choice',\n",
       "  'Lunch': 'Plantain flour swallow Edikaikong soup (Oil free) & Beef',\n",
       "  'Dinner': 'Seasonal vegetable stir-fry  (Carrot, green beans, garlic, ginger, bell paper, cucumber) & Beef',\n",
       "  'Snacks': 'Apple -60 calories'},\n",
       " 5: {'Breakfast': 'Quinoa, mixed veggie, avocado, pineapple, watermelon fruit & a protein of your choice',\n",
       "  'Lunch': 'Boiled, baked or roasted Yam with Garden egg sauce & mushroom & Beef',\n",
       "  'Dinner': 'Vegetable salad – all green & Beef',\n",
       "  'Snacks': 'Carrots -1 medium size - 60g - 29 calories'},\n",
       " 6: {'Breakfast': 'Quinoa, mixed veggie, avocado, pineapple, watermelon fruit & a protein of your choice.',\n",
       "  'Lunch': 'Moi-moi, Sauteed vegetables & Beef',\n",
       "  'Dinner': 'Greek salads – kale, red bell pepper, green bell pepper, red onions, cucumber  - Dressing with extra virgin olive oil or coconut oil , lemon, mince garlic, black paper, pinch sea salt ) & Beef',\n",
       "  'Snacks': 'Pineapple – 100g -46calories'}}"
      ]
     },
     "metadata": {},
     "execution_count": 48
    }
   ],
   "source": [
    "#An example if the users single choice is beef\n",
    "create_meal_plan(meal_plan,[\"Beef\"])"
   ]
  },
  {
   "cell_type": "code",
   "execution_count": 57,
   "metadata": {},
   "outputs": [
    {
     "output_type": "execute_result",
     "data": {
      "text/plain": [
       "'Greek salads – kale, red bell pepper, green bell pepper, red onions, cucumber  - Dressing with extra virgin olive oil or coconut oil , lemon, mince garlic, black paper, pinch sea salt ) & Beef'"
      ]
     },
     "metadata": {},
     "execution_count": 57
    }
   ],
   "source": [
    "mp = create_meal_plan(meal_plan,[\"Beef\"])\n",
    "mp[6]['Dinner']"
   ]
  },
  {
   "source": [
    "## CUSTOM MEAL PLAN: HOW IT WORKS \n",
    "The process for how a custom meal plan works is outlined in steps 1 to 9 below.<br>\n",
    "1. GET A RANDOM DAY<br>\n",
    "2. GET BREAKFAST<br>\n",
    "3. GET ANOTHER RANDOM DAY<br>\n",
    "4. GET LUNCH<br>\n",
    "5. GET ANOTHER RANDOM DAY<br>\n",
    "6. GET DINNER<br>\n",
    "7. GET ANOTHER RANDOM DAY<br>\n",
    "8. GET SNACKS\n",
    "9. REPEAT STEPS 1 TO 8 FOR 28 DAYS"
   ],
   "cell_type": "markdown",
   "metadata": {}
  },
  {
   "cell_type": "code",
   "execution_count": 79,
   "metadata": {},
   "outputs": [],
   "source": [
    "import random\n",
    "\n",
    "def create_random_meal_plan(meal_plan, users_choices, days):\n",
    "    '''This creates a meal plan from the meal_plan  dictionary\n",
    "    Args: 1. takes meal plan dictionary in format (day-> meal-> options->[ list of meals]).\n",
    "          2. takes the users choices as a list of proteins.\n",
    "          3. takes the number of days (integer) to randomize the meal plan for.\n",
    "    result: Returns a dictionary in format (day-> mealtime-> meal).\n",
    "    '''\n",
    "\n",
    "    custom_meal_plan = {}\n",
    "    meal_sets = ['Breakfast', 'Lunch', 'Dinner', 'Snacks']\n",
    "    \n",
    "    for daycount in range(days): #number of days to generate the meal plan for\n",
    "        if not custom_meal_plan.get(daycount): #if the day does not exist yet create day\n",
    "            custom_meal_plan[daycount] = {}    \n",
    "        \n",
    "        for meal in meal_sets: #go through the mealtimes (breakfast, lunch, dinner, snacks)\n",
    "            rand_day = get_random_day(meal_plan) #get the meal info from a random day from the meal_plan\n",
    "            # print(rand_day)\n",
    "            meal_info = meal_plan[rand_day][meal] #e.g meal_plan['Day_one']['Lunch']\n",
    "\n",
    "            if meal_info.get('Options'): #check if there are meal options, e.g Snacks do not have options only a default\n",
    "                choices = [option for option in meal_info.get('Options') if option in users_choices]\n",
    "                # print(choices)\n",
    "                \n",
    "                #check if the options match with the users selected protein choices, pick one at random.\n",
    "                if choices:\n",
    "                    choice = random.choices(choices)[0]\n",
    "                    custom_meal_plan[daycount][meal] = get_random_meal_from(meal_info,choice)\n",
    "\n",
    "                else:\n",
    "                    #if the choices do not match with the users selected protein options, go with the default meal\n",
    "                    custom_meal_plan[daycount][meal] = get_random_meal_from(meal_info,'Default')\n",
    "\n",
    "            else:\n",
    "                #if there are no options go with the default meal\n",
    "                custom_meal_plan[daycount][meal] = get_random_meal_from(meal_info,'Default')\n",
    "    return custom_meal_plan"
   ]
  },
  {
   "cell_type": "code",
   "execution_count": 82,
   "metadata": {
    "tags": []
   },
   "outputs": [
    {
     "output_type": "error",
     "ename": "SyntaxError",
     "evalue": "invalid syntax (<ipython-input-82-c744c5b95863>, line 2)",
     "traceback": [
      "\u001b[0;36m  File \u001b[0;32m\"<ipython-input-82-c744c5b95863>\"\u001b[0;36m, line \u001b[0;32m2\u001b[0m\n\u001b[0;31m    print(type custom_meal_plan)\u001b[0m\n\u001b[0m               ^\u001b[0m\n\u001b[0;31mSyntaxError\u001b[0m\u001b[0;31m:\u001b[0m invalid syntax\n"
     ]
    }
   ],
   "source": [
    "custom_meal_plan = create_random_meal_plan(meal_plan, ['Beef','Egg'], 7)\n",
    "print(type custom_meal_plan)"
   ]
  },
  {
   "cell_type": "code",
   "execution_count": 115,
   "metadata": {},
   "outputs": [
    {
     "output_type": "execute_result",
     "data": {
      "text/plain": [
       "'Meal: Baked sweet potatoes. Mixed veggies: Onions, ginger garlic, bell papers ,carrots , green beans. Tomato sauce: Garlic, onions, basil, tomatoes, chili pepper. Protein: Beef'"
      ]
     },
     "metadata": {},
     "execution_count": 115
    }
   ],
   "source": [
    "custom_meal_plan[1]['Lunch']"
   ]
  },
  {
   "cell_type": "code",
   "execution_count": 116,
   "metadata": {},
   "outputs": [
    {
     "output_type": "execute_result",
     "data": {
      "text/plain": [
       "'Pepper soup – uziza leaf & Chopped beef'"
      ]
     },
     "metadata": {},
     "execution_count": 116
    }
   ],
   "source": [
    "custom_meal_plan[4]['Dinner']"
   ]
  },
  {
   "cell_type": "code",
   "execution_count": 117,
   "metadata": {},
   "outputs": [
    {
     "output_type": "execute_result",
     "data": {
      "text/plain": [
       "'Banana -1 medium size -100g -139calories'"
      ]
     },
     "metadata": {},
     "execution_count": 117
    }
   ],
   "source": [
    "custom_meal_plan[6]['Snacks']"
   ]
  },
  {
   "cell_type": "code",
   "execution_count": 227,
   "metadata": {},
   "outputs": [],
   "source": [
    "create_random_meal_plan(meal_plan,['Egg','Beef','Chicken','Turkey','Fish'], 28);"
   ]
  },
  {
   "cell_type": "code",
   "execution_count": 93,
   "metadata": {},
   "outputs": [
    {
     "output_type": "execute_result",
     "data": {
      "text/plain": [
       "{0: {'Breakfast': 'Unripe/Semi ripe Grilled Plantain, Vegetable Sauce & Grilled Fish',\n",
       "  'Lunch': 'Beans and plantain pottage with vegetables & Eggs',\n",
       "  'Dinner': 'Seasonal vegetable stir-fry  (Carrot, green beans, garlic, ginger, bell paper, cucumber) & Shrimps',\n",
       "  'Snacks': 'Apple -60 calories'},\n",
       " 1: {'Breakfast': 'A Bowl of pawpaw, one slice of toast bread & Sausage',\n",
       "  'Lunch': 'Amala (White or Black) with Okra Soup & Mixed Vegetables & Pork',\n",
       "  'Dinner': 'Pepper soup – uziza leaf & Chopped beef',\n",
       "  'Snacks': 'Carrots -1 medium size - 60g - 29 calories'},\n",
       " 2: {'Breakfast': 'Unripe/Semi ripe Grilled Plantain, Vegetable Sauce & Scrambled Egg',\n",
       "  'Lunch': 'Beans and plantain pottage with vegetables & Turkey',\n",
       "  'Dinner': 'Steamed vegetables – carrots, cauliflower, green peas, ginger, garlic, bell papers (red, yellow, green) & Egg',\n",
       "  'Snacks': 'Apple -60 calories'}}"
      ]
     },
     "metadata": {},
     "execution_count": 93
    }
   ],
   "source": [
    "create_random_meal_plan(meal_plan, ['Bacon', 'Beef', 'Chicken', 'Egg', 'Fish', 'Meat', 'Mushrooms', 'Pork', 'Sardine', 'Sausage', 'Shrimp', 'Turkey'], 3)"
   ]
  },
  {
   "cell_type": "code",
   "execution_count": 107,
   "metadata": {},
   "outputs": [
    {
     "output_type": "stream",
     "name": "stdout",
     "text": [
      "Nay\n"
     ]
    }
   ],
   "source": [
    "choices = []\n",
    "if choices:\n",
    "    print('Yes')\n",
    "else:\n",
    "    print('Nay')"
   ]
  },
  {
   "cell_type": "code",
   "execution_count": null,
   "metadata": {},
   "outputs": [],
   "source": []
  }
 ]
}